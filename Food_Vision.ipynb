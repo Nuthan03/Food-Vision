{
  "nbformat": 4,
  "nbformat_minor": 0,
  "metadata": {
    "colab": {
      "provenance": [],
      "gpuType": "T4",
      "authorship_tag": "ABX9TyPExqJ/xEfOVSTF8XYDIt47",
      "include_colab_link": true
    },
    "kernelspec": {
      "name": "python3",
      "display_name": "Python 3"
    },
    "language_info": {
      "name": "python"
    },
    "accelerator": "GPU"
  },
  "cells": [
    {
      "cell_type": "markdown",
      "metadata": {
        "id": "view-in-github",
        "colab_type": "text"
      },
      "source": [
        "<a href=\"https://colab.research.google.com/github/Nuthan03/Food-Vision/blob/main/Food_Vision.ipynb\" target=\"_parent\"><img src=\"https://colab.research.google.com/assets/colab-badge.svg\" alt=\"Open In Colab\"/></a>"
      ]
    },
    {
      "cell_type": "markdown",
      "source": [
        "# Project 1: Food Vision"
      ],
      "metadata": {
        "id": "8KDfFDbevoC1"
      }
    },
    {
      "cell_type": "markdown",
      "source": [
        "## Check Gpu\n",
        "\n",
        "Google Colab offers:\n",
        "* K80 (not compatible)\n",
        "* P100 (not compatible)\n",
        "* Tesla T4 (compatible)"
      ],
      "metadata": {
        "id": "Y_hNOY0WzG8K"
      }
    },
    {
      "cell_type": "code",
      "source": [],
      "metadata": {
        "id": "FtRZQMajzb3v"
      },
      "execution_count": null,
      "outputs": []
    }
  ]
}